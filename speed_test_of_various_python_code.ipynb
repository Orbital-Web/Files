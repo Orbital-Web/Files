{
  "nbformat": 4,
  "nbformat_minor": 0,
  "metadata": {
    "colab": {
      "name": "speed test of various python code.ipynb",
      "provenance": [],
      "collapsed_sections": [
        "nz0sc0gCVgqk",
        "gMDGNugcVoL7",
        "z9L6qiQCX047",
        "6MxyI56JZyBA"
      ],
      "authorship_tag": "ABX9TyPRBNM8kAMg4h4FH4EG0lkN",
      "include_colab_link": true
    },
    "kernelspec": {
      "name": "python3",
      "display_name": "Python 3"
    }
  },
  "cells": [
    {
      "cell_type": "markdown",
      "metadata": {
        "id": "view-in-github",
        "colab_type": "text"
      },
      "source": [
        "<a href=\"https://colab.research.google.com/github/Orbital-Web/Files/blob/master/speed_test_of_various_python_code.ipynb\" target=\"_parent\"><img src=\"https://colab.research.google.com/assets/colab-badge.svg\" alt=\"Open In Colab\"/></a>"
      ]
    },
    {
      "cell_type": "code",
      "metadata": {
        "id": "Thy9awZsUQgx",
        "colab_type": "code",
        "colab": {}
      },
      "source": [
        "import random\n",
        "random.seed(314)\n",
        "longlist = [random.randint(0, 50) for i in range(1000000)]"
      ],
      "execution_count": 31,
      "outputs": []
    },
    {
      "cell_type": "markdown",
      "metadata": {
        "id": "nz0sc0gCVgqk",
        "colab_type": "text"
      },
      "source": [
        "# Remove duplicates"
      ]
    },
    {
      "cell_type": "code",
      "metadata": {
        "id": "8J7kylVzUe9L",
        "colab_type": "code",
        "colab": {
          "base_uri": "https://localhost:8080/",
          "height": 53
        },
        "outputId": "454db483-ab73-4cbb-d163-c89b692e281c"
      },
      "source": [
        "%%time\n",
        "\n",
        "unique = []\n",
        "for i in longlist:\n",
        "  if i not in unique:\n",
        "    unique.append(i)"
      ],
      "execution_count": 10,
      "outputs": [
        {
          "output_type": "stream",
          "text": [
            "CPU times: user 375 ms, sys: 1.95 ms, total: 377 ms\n",
            "Wall time: 378 ms\n"
          ],
          "name": "stdout"
        }
      ]
    },
    {
      "cell_type": "code",
      "metadata": {
        "id": "4A8qrMdqU52_",
        "colab_type": "code",
        "colab": {
          "base_uri": "https://localhost:8080/",
          "height": 53
        },
        "outputId": "5968679a-f9a8-418b-8ac7-6d694d6105be"
      },
      "source": [
        "%%time\n",
        "\n",
        "unique = list(set(longlist))"
      ],
      "execution_count": 12,
      "outputs": [
        {
          "output_type": "stream",
          "text": [
            "CPU times: user 8.99 ms, sys: 0 ns, total: 8.99 ms\n",
            "Wall time: 8.97 ms\n"
          ],
          "name": "stdout"
        }
      ]
    },
    {
      "cell_type": "markdown",
      "metadata": {
        "id": "gMDGNugcVoL7",
        "colab_type": "text"
      },
      "source": [
        "# If statements and branchless"
      ]
    },
    {
      "cell_type": "code",
      "metadata": {
        "id": "YkMDUpt1VX1s",
        "colab_type": "code",
        "colab": {
          "base_uri": "https://localhost:8080/",
          "height": 53
        },
        "outputId": "40c0c289-b205-40f1-d39f-5994e4feecf0"
      },
      "source": [
        "%%time\n",
        "\n",
        "for i in longlist:\n",
        "  a, b = random.randint(0, 50), random.randint(0, 50)\n",
        "  if a > b:\n",
        "    output = a  #replacement for print as we don't want to clog the output\n",
        "  else:\n",
        "    output = b"
      ],
      "execution_count": 41,
      "outputs": [
        {
          "output_type": "stream",
          "text": [
            "CPU times: user 2.26 s, sys: 0 ns, total: 2.26 s\n",
            "Wall time: 2.26 s\n"
          ],
          "name": "stdout"
        }
      ]
    },
    {
      "cell_type": "code",
      "metadata": {
        "id": "ewoh7UILYItU",
        "colab_type": "code",
        "colab": {
          "base_uri": "https://localhost:8080/",
          "height": 53
        },
        "outputId": "361ccd93-987d-4757-bed0-fced06cc1fe8"
      },
      "source": [
        "%%time\n",
        "\n",
        "for i in longlist:\n",
        "  a, b = random.randint(0, 50), random.randint(0, 50)\n",
        "  output = a if a > b else b"
      ],
      "execution_count": 42,
      "outputs": [
        {
          "output_type": "stream",
          "text": [
            "CPU times: user 2.27 s, sys: 0 ns, total: 2.27 s\n",
            "Wall time: 2.28 s\n"
          ],
          "name": "stdout"
        }
      ]
    },
    {
      "cell_type": "code",
      "metadata": {
        "id": "6ifxK4UsWfoL",
        "colab_type": "code",
        "colab": {
          "base_uri": "https://localhost:8080/",
          "height": 53
        },
        "outputId": "d3fc8243-e677-4947-e35d-fc58b6f9ad66"
      },
      "source": [
        "%%time\n",
        "\n",
        "for i in longlist:\n",
        "  a, b = random.randint(0, 50), random.randint(0, 50)\n",
        "  output = a*(a>b) + b*(b<=a)"
      ],
      "execution_count": 43,
      "outputs": [
        {
          "output_type": "stream",
          "text": [
            "CPU times: user 2.36 s, sys: 0 ns, total: 2.36 s\n",
            "Wall time: 2.36 s\n"
          ],
          "name": "stdout"
        }
      ]
    },
    {
      "cell_type": "markdown",
      "metadata": {
        "id": "z9L6qiQCX047",
        "colab_type": "text"
      },
      "source": [
        "# Loops, list comprehension, and maps\n"
      ]
    },
    {
      "cell_type": "code",
      "metadata": {
        "id": "pJIS3PD3YF83",
        "colab_type": "code",
        "colab": {
          "base_uri": "https://localhost:8080/",
          "height": 53
        },
        "outputId": "61c93cfd-438e-4bac-f0bb-a4cfb9d612ea"
      },
      "source": [
        "%%time\n",
        "\n",
        "doubled = []\n",
        "for i in longlist:\n",
        "  doubled.append(i*2)"
      ],
      "execution_count": 37,
      "outputs": [
        {
          "output_type": "stream",
          "text": [
            "CPU times: user 135 ms, sys: 0 ns, total: 135 ms\n",
            "Wall time: 134 ms\n"
          ],
          "name": "stdout"
        }
      ]
    },
    {
      "cell_type": "code",
      "metadata": {
        "id": "EA9K67l_Y-MM",
        "colab_type": "code",
        "colab": {
          "base_uri": "https://localhost:8080/",
          "height": 53
        },
        "outputId": "d30f357e-a3d4-4a49-a884-76b9b06b0919"
      },
      "source": [
        "%%time\n",
        "\n",
        "doubled = list(map(lambda i: i*2, longlist))"
      ],
      "execution_count": 39,
      "outputs": [
        {
          "output_type": "stream",
          "text": [
            "CPU times: user 88.4 ms, sys: 178 µs, total: 88.5 ms\n",
            "Wall time: 92.3 ms\n"
          ],
          "name": "stdout"
        }
      ]
    },
    {
      "cell_type": "code",
      "metadata": {
        "id": "RX30IrEAYwtE",
        "colab_type": "code",
        "colab": {
          "base_uri": "https://localhost:8080/",
          "height": 53
        },
        "outputId": "88df8eec-38f1-431f-c5eb-733b808b61ad"
      },
      "source": [
        "%%time\n",
        "\n",
        "def x2(i):\n",
        "  return i*2\n",
        "\n",
        "doubled = list(map(x2, longlist))"
      ],
      "execution_count": 38,
      "outputs": [
        {
          "output_type": "stream",
          "text": [
            "CPU times: user 86.1 ms, sys: 0 ns, total: 86.1 ms\n",
            "Wall time: 89.3 ms\n"
          ],
          "name": "stdout"
        }
      ]
    },
    {
      "cell_type": "code",
      "metadata": {
        "id": "pgEDs7bgYsHR",
        "colab_type": "code",
        "colab": {
          "base_uri": "https://localhost:8080/",
          "height": 53
        },
        "outputId": "c1e0fca1-463e-4383-b9f9-bcd3c8032cf1"
      },
      "source": [
        "%%time\n",
        "\n",
        "doubled = [i*2 for i in longlist]"
      ],
      "execution_count": 40,
      "outputs": [
        {
          "output_type": "stream",
          "text": [
            "CPU times: user 55 ms, sys: 728 µs, total: 55.8 ms\n",
            "Wall time: 57.4 ms\n"
          ],
          "name": "stdout"
        }
      ]
    },
    {
      "cell_type": "markdown",
      "metadata": {
        "id": "6MxyI56JZyBA",
        "colab_type": "text"
      },
      "source": [
        "# String concact, string formating, and f format"
      ]
    },
    {
      "cell_type": "code",
      "metadata": {
        "id": "GhFIR85mb_w9",
        "colab_type": "code",
        "colab": {
          "base_uri": "https://localhost:8080/",
          "height": 53
        },
        "outputId": "6fbb720e-75b1-4bd2-eba4-1eaafd20ce90"
      },
      "source": [
        "%%time\n",
        "\n",
        "for i in longlist:\n",
        "  texta = \"ajfjakj\"\n",
        "  textb = \"vbnnmnv\"\n",
        "  textc = \"uruiqyu\"\n",
        "  output = \"iewruiyu {} {} {}\".format(texta, textb, textc)"
      ],
      "execution_count": 47,
      "outputs": [
        {
          "output_type": "stream",
          "text": [
            "CPU times: user 452 ms, sys: 0 ns, total: 452 ms\n",
            "Wall time: 453 ms\n"
          ],
          "name": "stdout"
        }
      ]
    },
    {
      "cell_type": "code",
      "metadata": {
        "id": "XrVylzOGaYHH",
        "colab_type": "code",
        "colab": {
          "base_uri": "https://localhost:8080/",
          "height": 53
        },
        "outputId": "595c48b8-bf6e-4d5a-d1dd-6aed67addc90"
      },
      "source": [
        "%%time\n",
        "\n",
        "for i in longlist:\n",
        "  texta = \"ajfjakj\"\n",
        "  textb = \"vbnnmnv\"\n",
        "  textc = \"uruiqyu\"\n",
        "  output = \"iewruiyu \" + texta + \" \" + textb + \" \" + textc"
      ],
      "execution_count": 48,
      "outputs": [
        {
          "output_type": "stream",
          "text": [
            "CPU times: user 386 ms, sys: 0 ns, total: 386 ms\n",
            "Wall time: 387 ms\n"
          ],
          "name": "stdout"
        }
      ]
    },
    {
      "cell_type": "code",
      "metadata": {
        "id": "m6PgZWpxcIns",
        "colab_type": "code",
        "colab": {
          "base_uri": "https://localhost:8080/",
          "height": 53
        },
        "outputId": "9330ab31-643a-45ce-8890-c0bea716d653"
      },
      "source": [
        "%%time\n",
        "\n",
        "for i in longlist:\n",
        "  texta = \"ajfjakj\"\n",
        "  textb = \"vbnnmnv\"\n",
        "  textc = \"uruiqyu\"\n",
        "  output = f\"iewruiyu {texta} {textb} {textc}\""
      ],
      "execution_count": 46,
      "outputs": [
        {
          "output_type": "stream",
          "text": [
            "CPU times: user 295 ms, sys: 0 ns, total: 295 ms\n",
            "Wall time: 295 ms\n"
          ],
          "name": "stdout"
        }
      ]
    }
  ]
}